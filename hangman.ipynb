{
  "nbformat": 4,
  "nbformat_minor": 0,
  "metadata": {
    "colab": {
      "provenance": [],
      "authorship_tag": "ABX9TyNfs/PLBMCmeGRnh1/hhOvS",
      "include_colab_link": true
    },
    "kernelspec": {
      "name": "python3",
      "display_name": "Python 3"
    },
    "language_info": {
      "name": "python"
    }
  },
  "cells": [
    {
      "cell_type": "markdown",
      "metadata": {
        "id": "view-in-github",
        "colab_type": "text"
      },
      "source": [
        "<a href=\"https://colab.research.google.com/github/muridao/hangman/blob/main/hangman.ipynb\" target=\"_parent\"><img src=\"https://colab.research.google.com/assets/colab-badge.svg\" alt=\"Open In Colab\"/></a>"
      ]
    },
    {
      "cell_type": "code",
      "execution_count": null,
      "metadata": {
        "id": "hmtUcSHtgsZZ"
      },
      "outputs": [],
      "source": [
        "def hangman(word):\n",
        "    wrong = 0\n",
        "    stages = [\"\",\n",
        "             \"________        \",\n",
        "             \"|               \",\n",
        "             \"|        |      \",\n",
        "             \"|        0      \",\n",
        "             \"|       /|\\     \",\n",
        "             \"|       / \\     \",\n",
        "             \"|               \"\n",
        "              ]\n",
        "    rletters = list(word)\n",
        "    board = [\"__\"] * len(word)\n",
        "    win = False\n",
        "    print(\"Welcome to Hangman\")\n",
        "    while wrong < len(stages) - 1:\n",
        "        print(\"\\n\")\n",
        "        msg = \"Guess a letter\"\n",
        "        char = input(msg)\n",
        "        if char in rletters:\n",
        "            cind = rletters \\\n",
        "                   .index(char)\n",
        "            board[cind] = char\n",
        "            rletters[cind] = '$'\n",
        "        else:\n",
        "            wrong += 1\n",
        "        print((\" \".join(board)))\n",
        "        e = wrong + 1\n",
        "        print(\"\\n\"\n",
        "              .join(stages[0: e]))\n",
        "        if \"__\" not in board:\n",
        "            print(\"You win!\")\n",
        "            print(\" \".join(board))\n",
        "            win = True\n",
        "            break\n",
        "    if not win:\n",
        "        print(\"\\n\"\n",
        "              .join(stages[0: \\\n",
        "              wrong]))\n",
        "        print(\"You lose! It was {}.\"\n",
        "              .format(word))\n",
        "\n",
        "hangman(\"apple\")"
      ]
    }
  ]
}